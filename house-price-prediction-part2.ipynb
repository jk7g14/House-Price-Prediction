{
 "cells": [
  {
   "cell_type": "code",
   "execution_count": 95,
   "metadata": {},
   "outputs": [],
   "source": [
    "import pandas as pd\n",
    "import numpy as np\n",
    "%matplotlib inline\n",
    "import matplotlib.pyplot as plt\n",
    "import seaborn as sns\n",
    "import warnings\n",
    "warnings.filterwarnings('ignore')\n",
    "from scipy import stats\n",
    "from scipy.stats import norm, skew \n",
    "from scipy.special import boxcox1p\n",
    "#inv - inv_boxcox1p(y, 2.5)\n",
    "from sklearn.model_selection import KFold, cross_val_score, train_test_split\n",
    "from sklearn.preprocessing import StandardScaler, MinMaxScaler\n",
    "from sklearn.linear_model import LinearRegression, Ridge, RidgeCV, Lasso, LassoCV, ElasticNet, ElasticNetCV\n",
    "from sklearn.kernel_ridge import KernelRidge\n",
    "from sklearn.base import BaseEstimator, TransformerMixin, RegressorMixin, clone\n",
    "from sklearn.metrics import mean_squared_error\n",
    "from sklearn.ensemble import RandomForestRegressor,  GradientBoostingRegressor\n",
    "\n",
    "\n",
    "import xgboost as xgb\n",
    "import lightgbm as lgb\n",
    "import tensorflow as tf"
   ]
  },
  {
   "cell_type": "code",
   "execution_count": 96,
   "metadata": {},
   "outputs": [],
   "source": [
    "df = pd.read_csv('housing.data', sep='\\s+', header=None, names=['CRIM', 'ZN', 'INDUS','CHAS','NOX','RM','AGE','DIS','RAD','TAX','PTRATIO','B','LSTAT','MEDV'])"
   ]
  },
  {
   "cell_type": "code",
   "execution_count": 97,
   "metadata": {},
   "outputs": [
    {
     "data": {
      "text/html": [
       "<div>\n",
       "<style scoped>\n",
       "    .dataframe tbody tr th:only-of-type {\n",
       "        vertical-align: middle;\n",
       "    }\n",
       "\n",
       "    .dataframe tbody tr th {\n",
       "        vertical-align: top;\n",
       "    }\n",
       "\n",
       "    .dataframe thead th {\n",
       "        text-align: right;\n",
       "    }\n",
       "</style>\n",
       "<table border=\"1\" class=\"dataframe\">\n",
       "  <thead>\n",
       "    <tr style=\"text-align: right;\">\n",
       "      <th></th>\n",
       "      <th>CRIM</th>\n",
       "      <th>ZN</th>\n",
       "      <th>INDUS</th>\n",
       "      <th>CHAS</th>\n",
       "      <th>NOX</th>\n",
       "      <th>RM</th>\n",
       "      <th>AGE</th>\n",
       "      <th>DIS</th>\n",
       "      <th>RAD</th>\n",
       "      <th>TAX</th>\n",
       "      <th>PTRATIO</th>\n",
       "      <th>B</th>\n",
       "      <th>LSTAT</th>\n",
       "      <th>MEDV</th>\n",
       "    </tr>\n",
       "  </thead>\n",
       "  <tbody>\n",
       "    <tr>\n",
       "      <th>0</th>\n",
       "      <td>0.00632</td>\n",
       "      <td>18.0</td>\n",
       "      <td>2.31</td>\n",
       "      <td>0</td>\n",
       "      <td>0.538</td>\n",
       "      <td>6.575</td>\n",
       "      <td>65.2</td>\n",
       "      <td>4.0900</td>\n",
       "      <td>1</td>\n",
       "      <td>296.0</td>\n",
       "      <td>15.3</td>\n",
       "      <td>396.90</td>\n",
       "      <td>4.98</td>\n",
       "      <td>24.0</td>\n",
       "    </tr>\n",
       "    <tr>\n",
       "      <th>1</th>\n",
       "      <td>0.02731</td>\n",
       "      <td>0.0</td>\n",
       "      <td>7.07</td>\n",
       "      <td>0</td>\n",
       "      <td>0.469</td>\n",
       "      <td>6.421</td>\n",
       "      <td>78.9</td>\n",
       "      <td>4.9671</td>\n",
       "      <td>2</td>\n",
       "      <td>242.0</td>\n",
       "      <td>17.8</td>\n",
       "      <td>396.90</td>\n",
       "      <td>9.14</td>\n",
       "      <td>21.6</td>\n",
       "    </tr>\n",
       "    <tr>\n",
       "      <th>2</th>\n",
       "      <td>0.02729</td>\n",
       "      <td>0.0</td>\n",
       "      <td>7.07</td>\n",
       "      <td>0</td>\n",
       "      <td>0.469</td>\n",
       "      <td>7.185</td>\n",
       "      <td>61.1</td>\n",
       "      <td>4.9671</td>\n",
       "      <td>2</td>\n",
       "      <td>242.0</td>\n",
       "      <td>17.8</td>\n",
       "      <td>392.83</td>\n",
       "      <td>4.03</td>\n",
       "      <td>34.7</td>\n",
       "    </tr>\n",
       "    <tr>\n",
       "      <th>3</th>\n",
       "      <td>0.03237</td>\n",
       "      <td>0.0</td>\n",
       "      <td>2.18</td>\n",
       "      <td>0</td>\n",
       "      <td>0.458</td>\n",
       "      <td>6.998</td>\n",
       "      <td>45.8</td>\n",
       "      <td>6.0622</td>\n",
       "      <td>3</td>\n",
       "      <td>222.0</td>\n",
       "      <td>18.7</td>\n",
       "      <td>394.63</td>\n",
       "      <td>2.94</td>\n",
       "      <td>33.4</td>\n",
       "    </tr>\n",
       "    <tr>\n",
       "      <th>4</th>\n",
       "      <td>0.06905</td>\n",
       "      <td>0.0</td>\n",
       "      <td>2.18</td>\n",
       "      <td>0</td>\n",
       "      <td>0.458</td>\n",
       "      <td>7.147</td>\n",
       "      <td>54.2</td>\n",
       "      <td>6.0622</td>\n",
       "      <td>3</td>\n",
       "      <td>222.0</td>\n",
       "      <td>18.7</td>\n",
       "      <td>396.90</td>\n",
       "      <td>5.33</td>\n",
       "      <td>36.2</td>\n",
       "    </tr>\n",
       "  </tbody>\n",
       "</table>\n",
       "</div>"
      ],
      "text/plain": [
       "      CRIM    ZN  INDUS  CHAS    NOX     RM   AGE     DIS  RAD    TAX  \\\n",
       "0  0.00632  18.0   2.31     0  0.538  6.575  65.2  4.0900    1  296.0   \n",
       "1  0.02731   0.0   7.07     0  0.469  6.421  78.9  4.9671    2  242.0   \n",
       "2  0.02729   0.0   7.07     0  0.469  7.185  61.1  4.9671    2  242.0   \n",
       "3  0.03237   0.0   2.18     0  0.458  6.998  45.8  6.0622    3  222.0   \n",
       "4  0.06905   0.0   2.18     0  0.458  7.147  54.2  6.0622    3  222.0   \n",
       "\n",
       "   PTRATIO       B  LSTAT  MEDV  \n",
       "0     15.3  396.90   4.98  24.0  \n",
       "1     17.8  396.90   9.14  21.6  \n",
       "2     17.8  392.83   4.03  34.7  \n",
       "3     18.7  394.63   2.94  33.4  \n",
       "4     18.7  396.90   5.33  36.2  "
      ]
     },
     "execution_count": 97,
     "metadata": {},
     "output_type": "execute_result"
    }
   ],
   "source": [
    "df.head()"
   ]
  },
  {
   "cell_type": "markdown",
   "metadata": {},
   "source": [
    "# Part 2. Modelling & Evaluation"
   ]
  },
  {
   "cell_type": "markdown",
   "metadata": {},
   "source": [
    "- ## preprocessing"
   ]
  },
  {
   "cell_type": "markdown",
   "metadata": {},
   "source": [
    "We will preprocess the data just like part1"
   ]
  },
  {
   "cell_type": "code",
   "execution_count": 98,
   "metadata": {},
   "outputs": [],
   "source": [
    "df['MEDV'] = np.log1p(df['MEDV'])"
   ]
  },
  {
   "cell_type": "code",
   "execution_count": 99,
   "metadata": {},
   "outputs": [
    {
     "data": {
      "text/plain": [
       "count    506.000000\n",
       "mean       3.085437\n",
       "std        0.386966\n",
       "min        1.791759\n",
       "25%        2.891757\n",
       "50%        3.100092\n",
       "75%        3.258097\n",
       "max        3.931826\n",
       "Name: MEDV, dtype: float64"
      ]
     },
     "execution_count": 99,
     "metadata": {},
     "output_type": "execute_result"
    }
   ],
   "source": [
    "df['MEDV'].describe()"
   ]
  },
  {
   "cell_type": "code",
   "execution_count": 100,
   "metadata": {},
   "outputs": [
    {
     "name": "stdout",
     "output_type": "stream",
     "text": [
      "CRIM\n",
      "5.223148798243851 37.13050912952203\n",
      "1.9740843132332258 4.308580743930477\n",
      "--------------------------\n",
      "ZN\n",
      "2.2256663227354307 4.031510083739155\n",
      "1.4314701905207694 0.537160832923989\n",
      "--------------------------\n",
      "INDUS\n",
      "0.29502156787351164 -1.2335396011495188\n",
      "--------------------------\n",
      "CHAS\n",
      "3.405904172058746 9.638263777819526\n",
      "--------------------------\n",
      "NOX\n",
      "0.7293079225348787 -0.06466713336542629\n",
      "--------------------------\n",
      "RM\n",
      "0.40361213328874385 1.8915003664993404\n",
      "--------------------------\n",
      "AGE\n",
      "-0.5989626398812962 -0.9677155941626912\n",
      "--------------------------\n",
      "DIS\n",
      "1.0117805793009007 0.4879411222443908\n",
      "0.5524972546768439 -0.6085593626946499\n",
      "--------------------------\n",
      "RAD\n",
      "1.0048146482182057 -0.8672319936034931\n",
      "0.7928936001671438 -0.9257488088889918\n",
      "--------------------------\n",
      "TAX\n",
      "0.669955941795016 -1.1424079924768082\n",
      "--------------------------\n",
      "PTRATIO\n",
      "-0.8023249268537809 -0.28509138330538875\n",
      "-0.9304346714775735 0.014518330337779162\n",
      "--------------------------\n",
      "B\n",
      "-2.8903737121414492 7.226817549260753\n",
      "-3.5617983031004257 12.266124951669918\n",
      "--------------------------\n",
      "LSTAT\n",
      "0.9064600935915367 0.49323951739272776\n",
      "0.19637250446963392 -0.5776346879624561\n",
      "--------------------------\n"
     ]
    }
   ],
   "source": [
    "for i in df.columns[:-1]:\n",
    "    print(i)\n",
    "    print(df[i].skew(), df[i].kurt())\n",
    "    if i != 'CHAS' and (abs(df[i].skew()) > 0.75):\n",
    "        df[i] = boxcox1p(df[i], 0.35)\n",
    "        #df[i] = np.log1p(df[i])\n",
    "\n",
    "        print(df[i].skew(), df[i].kurt())\n",
    "    \n",
    "    print('--------------------------')"
   ]
  },
  {
   "cell_type": "markdown",
   "metadata": {},
   "source": [
    "- ## Split data into two parts and apply MinMax Scaler to the data"
   ]
  },
  {
   "cell_type": "markdown",
   "metadata": {},
   "source": [
    "we are going to split the data into train set and test set with 8:2 ratio. Moreover, because test data has to be treated as unseen data, we should apply MinMaxScaler to the train set first and then use it to the test set."
   ]
  },
  {
   "cell_type": "code",
   "execution_count": 101,
   "metadata": {},
   "outputs": [],
   "source": [
    "num_features = ['CRIM', 'ZN', 'INDUS','NOX','RM','AGE','DIS','RAD','TAX','PTRATIO','B','LSTAT']"
   ]
  },
  {
   "cell_type": "code",
   "execution_count": 102,
   "metadata": {},
   "outputs": [],
   "source": [
    "data_num = df[num_features]"
   ]
  },
  {
   "cell_type": "markdown",
   "metadata": {},
   "source": [
    "Applied one-hot encoding to a categorical feature."
   ]
  },
  {
   "cell_type": "code",
   "execution_count": 103,
   "metadata": {},
   "outputs": [],
   "source": [
    "data_catg = pd.get_dummies(df['CHAS'], prefix='CHAS')"
   ]
  },
  {
   "cell_type": "code",
   "execution_count": 104,
   "metadata": {},
   "outputs": [],
   "source": [
    "y = df['MEDV']"
   ]
  },
  {
   "cell_type": "code",
   "execution_count": 105,
   "metadata": {
    "scrolled": true
   },
   "outputs": [],
   "source": [
    "data = pd.concat([data_num, data_catg], axis=1)"
   ]
  },
  {
   "cell_type": "code",
   "execution_count": 106,
   "metadata": {},
   "outputs": [
    {
     "name": "stdout",
     "output_type": "stream",
     "text": [
      "X_train : (404, 14)\n",
      "X_test : (102, 14)\n",
      "y_train : (404,)\n",
      "y_test : (102,)\n"
     ]
    }
   ],
   "source": [
    "X_train, X_test, y_train, y_test = train_test_split(data, y, test_size = 0.2, random_state = 101)\n",
    "print(\"X_train : \" + str(X_train.shape))\n",
    "print(\"X_test : \" + str(X_test.shape))\n",
    "print(\"y_train : \" + str(y_train.shape))\n",
    "print(\"y_test : \" + str(y_test.shape))"
   ]
  },
  {
   "cell_type": "code",
   "execution_count": 107,
   "metadata": {},
   "outputs": [
    {
     "data": {
      "text/html": [
       "<div>\n",
       "<style scoped>\n",
       "    .dataframe tbody tr th:only-of-type {\n",
       "        vertical-align: middle;\n",
       "    }\n",
       "\n",
       "    .dataframe tbody tr th {\n",
       "        vertical-align: top;\n",
       "    }\n",
       "\n",
       "    .dataframe thead th {\n",
       "        text-align: right;\n",
       "    }\n",
       "</style>\n",
       "<table border=\"1\" class=\"dataframe\">\n",
       "  <thead>\n",
       "    <tr style=\"text-align: right;\">\n",
       "      <th></th>\n",
       "      <th>CRIM</th>\n",
       "      <th>ZN</th>\n",
       "      <th>INDUS</th>\n",
       "      <th>NOX</th>\n",
       "      <th>RM</th>\n",
       "      <th>AGE</th>\n",
       "      <th>DIS</th>\n",
       "      <th>RAD</th>\n",
       "      <th>TAX</th>\n",
       "      <th>PTRATIO</th>\n",
       "      <th>B</th>\n",
       "      <th>LSTAT</th>\n",
       "      <th>CHAS_0</th>\n",
       "      <th>CHAS_1</th>\n",
       "    </tr>\n",
       "  </thead>\n",
       "  <tbody>\n",
       "    <tr>\n",
       "      <th>288</th>\n",
       "      <td>0.045232</td>\n",
       "      <td>8.64704</td>\n",
       "      <td>5.32</td>\n",
       "      <td>0.405</td>\n",
       "      <td>6.315</td>\n",
       "      <td>45.6</td>\n",
       "      <td>3.139718</td>\n",
       "      <td>2.788537</td>\n",
       "      <td>293.0</td>\n",
       "      <td>4.938670</td>\n",
       "      <td>20.362356</td>\n",
       "      <td>3.210310</td>\n",
       "      <td>1</td>\n",
       "      <td>0</td>\n",
       "    </tr>\n",
       "    <tr>\n",
       "      <th>72</th>\n",
       "      <td>0.089040</td>\n",
       "      <td>0.00000</td>\n",
       "      <td>10.81</td>\n",
       "      <td>0.413</td>\n",
       "      <td>6.065</td>\n",
       "      <td>7.8</td>\n",
       "      <td>2.580296</td>\n",
       "      <td>2.161329</td>\n",
       "      <td>305.0</td>\n",
       "      <td>5.323830</td>\n",
       "      <td>20.239411</td>\n",
       "      <td>2.649902</td>\n",
       "      <td>1</td>\n",
       "      <td>0</td>\n",
       "    </tr>\n",
       "    <tr>\n",
       "      <th>471</th>\n",
       "      <td>2.174788</td>\n",
       "      <td>0.00000</td>\n",
       "      <td>18.10</td>\n",
       "      <td>0.532</td>\n",
       "      <td>6.229</td>\n",
       "      <td>90.7</td>\n",
       "      <td>1.824307</td>\n",
       "      <td>5.957627</td>\n",
       "      <td>666.0</td>\n",
       "      <td>5.463359</td>\n",
       "      <td>20.330248</td>\n",
       "      <td>4.315162</td>\n",
       "      <td>1</td>\n",
       "      <td>0</td>\n",
       "    </tr>\n",
       "    <tr>\n",
       "      <th>176</th>\n",
       "      <td>0.068677</td>\n",
       "      <td>0.00000</td>\n",
       "      <td>4.05</td>\n",
       "      <td>0.510</td>\n",
       "      <td>6.020</td>\n",
       "      <td>47.2</td>\n",
       "      <td>2.000209</td>\n",
       "      <td>2.492009</td>\n",
       "      <td>296.0</td>\n",
       "      <td>4.938670</td>\n",
       "      <td>20.287173</td>\n",
       "      <td>3.779247</td>\n",
       "      <td>1</td>\n",
       "      <td>0</td>\n",
       "    </tr>\n",
       "    <tr>\n",
       "      <th>320</th>\n",
       "      <td>0.159229</td>\n",
       "      <td>0.00000</td>\n",
       "      <td>7.38</td>\n",
       "      <td>0.493</td>\n",
       "      <td>6.426</td>\n",
       "      <td>52.3</td>\n",
       "      <td>2.344869</td>\n",
       "      <td>2.492009</td>\n",
       "      <td>287.0</td>\n",
       "      <td>5.380169</td>\n",
       "      <td>20.362356</td>\n",
       "      <td>3.110005</td>\n",
       "      <td>1</td>\n",
       "      <td>0</td>\n",
       "    </tr>\n",
       "  </tbody>\n",
       "</table>\n",
       "</div>"
      ],
      "text/plain": [
       "         CRIM       ZN  INDUS    NOX     RM   AGE       DIS       RAD    TAX  \\\n",
       "288  0.045232  8.64704   5.32  0.405  6.315  45.6  3.139718  2.788537  293.0   \n",
       "72   0.089040  0.00000  10.81  0.413  6.065   7.8  2.580296  2.161329  305.0   \n",
       "471  2.174788  0.00000  18.10  0.532  6.229  90.7  1.824307  5.957627  666.0   \n",
       "176  0.068677  0.00000   4.05  0.510  6.020  47.2  2.000209  2.492009  296.0   \n",
       "320  0.159229  0.00000   7.38  0.493  6.426  52.3  2.344869  2.492009  287.0   \n",
       "\n",
       "      PTRATIO          B     LSTAT  CHAS_0  CHAS_1  \n",
       "288  4.938670  20.362356  3.210310       1       0  \n",
       "72   5.323830  20.239411  2.649902       1       0  \n",
       "471  5.463359  20.330248  4.315162       1       0  \n",
       "176  4.938670  20.287173  3.779247       1       0  \n",
       "320  5.380169  20.362356  3.110005       1       0  "
      ]
     },
     "execution_count": 107,
     "metadata": {},
     "output_type": "execute_result"
    }
   ],
   "source": [
    "X_train.head()"
   ]
  },
  {
   "cell_type": "code",
   "execution_count": 108,
   "metadata": {},
   "outputs": [],
   "source": [
    "#stdSc = StandardScaler()\n",
    "#X_train.loc[:, num_features] = stdSc.fit_transform(X_train.loc[:, num_features])\n",
    "#X_test.loc[:, num_features] = stdSc.transform(X_test.loc[:, num_features])"
   ]
  },
  {
   "cell_type": "code",
   "execution_count": 109,
   "metadata": {},
   "outputs": [],
   "source": [
    "minmaxSc = MinMaxScaler()\n",
    "X_train.loc[:, num_features] = minmaxSc.fit_transform(X_train.loc[:, num_features])\n",
    "X_test.loc[:, num_features] = minmaxSc.transform(X_test.loc[:, num_features])"
   ]
  },
  {
   "cell_type": "code",
   "execution_count": 110,
   "metadata": {
    "scrolled": false
   },
   "outputs": [
    {
     "name": "stdout",
     "output_type": "stream",
     "text": [
      "X_train : (404, 14)\n",
      "X_test : (102, 14)\n",
      "y_train : (404,)\n",
      "y_test : (102,)\n"
     ]
    }
   ],
   "source": [
    "X_train = X_train.values\n",
    "X_test = X_test.values\n",
    "y_train = y_train.values\n",
    "y_test =y_test.values\n",
    "print(\"X_train : \" + str(X_train.shape))\n",
    "print(\"X_test : \" + str(X_test.shape))\n",
    "print(\"y_train : \" + str(y_train.shape))\n",
    "print(\"y_test : \" + str(y_test.shape))"
   ]
  },
  {
   "cell_type": "markdown",
   "metadata": {},
   "source": [
    "- ## Models"
   ]
  },
  {
   "cell_type": "markdown",
   "metadata": {},
   "source": [
    "### 1. Linear Regression"
   ]
  },
  {
   "cell_type": "markdown",
   "metadata": {},
   "source": [
    "Linear Regression performance result would be used as the basic measure when it comes to evaluation including variance and bias"
   ]
  },
  {
   "cell_type": "code",
   "execution_count": 111,
   "metadata": {},
   "outputs": [],
   "source": [
    "lr = LinearRegression()"
   ]
  },
  {
   "cell_type": "markdown",
   "metadata": {},
   "source": [
    "### 2. Ridge Regression (regularization model)"
   ]
  },
  {
   "cell_type": "markdown",
   "metadata": {},
   "source": [
    "If there is high variance, this model might decrease the variance.\n",
    "Did some grid search for a hyperparameter"
   ]
  },
  {
   "cell_type": "code",
   "execution_count": 112,
   "metadata": {},
   "outputs": [
    {
     "name": "stdout",
     "output_type": "stream",
     "text": [
      "Best alpha : 0.1\n",
      "Try again for more precision with alphas centered around 0.1\n",
      "Best alpha : 0.13999999999999999\n"
     ]
    }
   ],
   "source": [
    "ridge = RidgeCV(cv=5, alphas = [0.01, 0.03, 0.06, 0.1, 0.3, 0.6, 1, 3, 6, 10, 30, 60])\n",
    "ridge.fit(X_train, y_train)\n",
    "alpha = ridge.alpha_\n",
    "print(\"Best alpha :\", alpha)\n",
    "\n",
    "print(\"Try again for more precision with alphas centered around \" + str(alpha))\n",
    "ridge = RidgeCV(alphas = [alpha * .6, alpha * .65, alpha * .7, alpha * .75, alpha * .8, alpha * .85, \n",
    "                          alpha * .9, alpha * .95, alpha, alpha * 1.05, alpha * 1.1, alpha * 1.15,\n",
    "                          alpha * 1.25, alpha * 1.3, alpha * 1.35, alpha * 1.4], \n",
    "                cv = 10)\n",
    "ridge.fit(X_train, y_train)\n",
    "alpha = ridge.alpha_\n",
    "print(\"Best alpha :\", alpha)"
   ]
  },
  {
   "cell_type": "code",
   "execution_count": 113,
   "metadata": {},
   "outputs": [],
   "source": [
    "ridge = Ridge(alpha=alpha)"
   ]
  },
  {
   "cell_type": "markdown",
   "metadata": {},
   "source": [
    "### 3. Lasso Regression (another regularization model)"
   ]
  },
  {
   "cell_type": "code",
   "execution_count": 114,
   "metadata": {},
   "outputs": [
    {
     "name": "stdout",
     "output_type": "stream",
     "text": [
      "Best alpha : 0.0001\n",
      "Try again for more precision with alphas centered around 0.0001\n",
      "Best alpha : 6e-05\n"
     ]
    }
   ],
   "source": [
    "lasso = LassoCV(alphas = [0.0001, 0.0003, 0.0006, 0.001, 0.003, 0.006, 0.01, 0.03, 0.06, 0.1, \n",
    "                          0.3, 0.6, 1], \n",
    "                max_iter = 50000, cv = 10)\n",
    "lasso.fit(X_train, y_train)\n",
    "alpha = lasso.alpha_\n",
    "print(\"Best alpha :\", alpha)\n",
    "\n",
    "print(\"Try again for more precision with alphas centered around \" + str(alpha))\n",
    "lasso = LassoCV(alphas = [alpha * .6, alpha * .65, alpha * .7, alpha * .75, alpha * .8, \n",
    "                          alpha * .85, alpha * .9, alpha * .95, alpha, alpha * 1.05, \n",
    "                          alpha * 1.1, alpha * 1.15, alpha * 1.25, alpha * 1.3, alpha * 1.35, \n",
    "                          alpha * 1.4], \n",
    "                max_iter = 50000, cv = 10)\n",
    "lasso.fit(X_train, y_train)\n",
    "alpha = lasso.alpha_\n",
    "print(\"Best alpha :\", alpha)"
   ]
  },
  {
   "cell_type": "code",
   "execution_count": 115,
   "metadata": {},
   "outputs": [],
   "source": [
    "lasso = Lasso(alpha=alpha)"
   ]
  },
  {
   "cell_type": "markdown",
   "metadata": {},
   "source": [
    "### 4. ElasticNet (Ridge + Lasso)"
   ]
  },
  {
   "cell_type": "code",
   "execution_count": 116,
   "metadata": {},
   "outputs": [
    {
     "name": "stdout",
     "output_type": "stream",
     "text": [
      "Best l1_ratio : 0.1\n",
      "Best alpha : 0.0003\n",
      "Try again for more precision with l1_ratio centered around 0.1\n",
      "Best l1_ratio : 0.085\n",
      "Best alpha : 0.0003\n",
      "Now try again for more precision on alpha, with l1_ratio fixed at 0.085 and alpha centered around 0.0003\n",
      "Best l1_ratio : 0.085\n",
      "Best alpha : 0.000225\n"
     ]
    }
   ],
   "source": [
    "elasticNet = ElasticNetCV(l1_ratio = [0.1, 0.3, 0.5, 0.6, 0.7, 0.8, 0.85, 0.9, 0.95, 1],\n",
    "                          alphas = [0.0001, 0.0003, 0.0006, 0.001, 0.003, 0.006, \n",
    "                                    0.01, 0.03, 0.06, 0.1, 0.3, 0.6, 1, 3, 6], \n",
    "                          max_iter = 50000, cv = 10)\n",
    "elasticNet.fit(X_train, y_train)\n",
    "alpha = elasticNet.alpha_\n",
    "ratio = elasticNet.l1_ratio_\n",
    "print(\"Best l1_ratio :\", ratio)\n",
    "print(\"Best alpha :\", alpha )\n",
    "\n",
    "print(\"Try again for more precision with l1_ratio centered around \" + str(ratio))\n",
    "elasticNet = ElasticNetCV(l1_ratio = [ratio * .85, ratio * .9, ratio * .95, ratio, ratio * 1.05, ratio * 1.1, ratio * 1.15],\n",
    "                          alphas = [0.0001, 0.0003, 0.0006, 0.001, 0.003, 0.006, 0.01, 0.03, 0.06, 0.1, 0.3, 0.6, 1, 3, 6], \n",
    "                          max_iter = 50000, cv = 10)\n",
    "elasticNet.fit(X_train, y_train)\n",
    "if (elasticNet.l1_ratio_ > 1):\n",
    "    elasticNet.l1_ratio_ = 1    \n",
    "alpha = elasticNet.alpha_\n",
    "ratio = elasticNet.l1_ratio_\n",
    "print(\"Best l1_ratio :\", ratio)\n",
    "print(\"Best alpha :\", alpha )\n",
    "\n",
    "print(\"Now try again for more precision on alpha, with l1_ratio fixed at \" + str(ratio) + \n",
    "      \" and alpha centered around \" + str(alpha))\n",
    "elasticNet = ElasticNetCV(l1_ratio = ratio,\n",
    "                          alphas = [alpha * .6, alpha * .65, alpha * .7, alpha * .75, alpha * .8, alpha * .85, alpha * .9, \n",
    "                                    alpha * .95, alpha, alpha * 1.05, alpha * 1.1, alpha * 1.15, alpha * 1.25, alpha * 1.3, \n",
    "                                    alpha * 1.35, alpha * 1.4], \n",
    "                          max_iter = 50000, cv = 10)\n",
    "elasticNet.fit(X_train, y_train)\n",
    "if (elasticNet.l1_ratio_ > 1):\n",
    "    elasticNet.l1_ratio_ = 1    \n",
    "alpha = elasticNet.alpha_\n",
    "ratio = elasticNet.l1_ratio_\n",
    "print(\"Best l1_ratio :\", ratio)\n",
    "print(\"Best alpha :\", alpha )"
   ]
  },
  {
   "cell_type": "code",
   "execution_count": 117,
   "metadata": {},
   "outputs": [],
   "source": [
    "elasticNet = ElasticNet(alpha=alpha, l1_ratio=ratio)"
   ]
  },
  {
   "cell_type": "markdown",
   "metadata": {},
   "source": [
    "### 5. Kernel Ridge Regression (l2-norm + kernel trick)"
   ]
  },
  {
   "cell_type": "code",
   "execution_count": 118,
   "metadata": {},
   "outputs": [],
   "source": [
    "KRR = KernelRidge(alpha=0.1399, kernel='polynomial', degree=7, coef0=3.5)"
   ]
  },
  {
   "cell_type": "markdown",
   "metadata": {},
   "source": [
    "### 6. Random Forest Regression (Bagging)"
   ]
  },
  {
   "cell_type": "code",
   "execution_count": 119,
   "metadata": {},
   "outputs": [],
   "source": [
    "randomForest = RandomForestRegressor(n_estimators=600, oob_score=True, min_samples_leaf=2, max_features=0.5)"
   ]
  },
  {
   "cell_type": "markdown",
   "metadata": {},
   "source": [
    "### 7. Gradient Boosting Regression (Boosting)"
   ]
  },
  {
   "cell_type": "code",
   "execution_count": 120,
   "metadata": {},
   "outputs": [],
   "source": [
    "gboost = GradientBoostingRegressor(n_estimators=3000, learning_rate=0.1,\n",
    "                                   max_depth=4, max_features='sqrt',\n",
    "                                   min_samples_leaf=15, min_samples_split=10, \n",
    "                                   loss='huber', random_state =5)"
   ]
  },
  {
   "cell_type": "markdown",
   "metadata": {},
   "source": [
    "### 8. XGBoost (Boosting)"
   ]
  },
  {
   "cell_type": "code",
   "execution_count": 121,
   "metadata": {},
   "outputs": [],
   "source": [
    "xgboost = xgb.XGBRegressor(colsample_bytree=0.6, gamma=0.0, \n",
    "                             learning_rate=0.1, max_depth=4, \n",
    "                             min_child_weight=2, n_estimators=2000,\n",
    "                             reg_alpha=0.5, reg_lambda=0.8,\n",
    "                             subsample=0.5, silent=1,\n",
    "                             random_state =7, nthread = -1)"
   ]
  },
  {
   "cell_type": "markdown",
   "metadata": {},
   "source": [
    "### 9. LightGBM (Boosting)"
   ]
  },
  {
   "cell_type": "code",
   "execution_count": 122,
   "metadata": {},
   "outputs": [],
   "source": [
    "light_gbm = lgb.LGBMRegressor(objective='regression',num_leaves=5,\n",
    "                              learning_rate=0.05, n_estimators=720,\n",
    "                              max_bin = 55, bagging_fraction = 0.8,\n",
    "                              bagging_freq = 5, feature_fraction = 0.25,\n",
    "                              feature_fraction_seed=9, bagging_seed=9,\n",
    "                              min_data_in_leaf =7, min_sum_hessian_in_leaf = 11)"
   ]
  },
  {
   "cell_type": "markdown",
   "metadata": {},
   "source": [
    "### 10. Simple Stack Model (Average)"
   ]
  },
  {
   "cell_type": "code",
   "execution_count": 123,
   "metadata": {},
   "outputs": [],
   "source": [
    "class AveragingModels(BaseEstimator, RegressorMixin, TransformerMixin):\n",
    "    def __init__(self, models):\n",
    "        self.models = models\n",
    "        \n",
    "    # we define clones of the original models to fit the data in\n",
    "    def fit(self, X, y):\n",
    "        self.models_ = [clone(x) for x in self.models]\n",
    "        \n",
    "        # Train cloned base models\n",
    "        for model in self.models_:\n",
    "            model.fit(X, y)\n",
    "\n",
    "        return self\n",
    "    \n",
    "    #Now we do the predictions for cloned models and average them\n",
    "    def predict(self, X):\n",
    "        predictions = np.column_stack([\n",
    "            model.predict(X) for model in self.models_\n",
    "        ])\n",
    "        return np.mean(predictions, axis=1)   "
   ]
  },
  {
   "cell_type": "markdown",
   "metadata": {},
   "source": [
    "### 11. Stack model with a Meta-model"
   ]
  },
  {
   "cell_type": "code",
   "execution_count": 124,
   "metadata": {},
   "outputs": [],
   "source": [
    "class StackingAveragedModels(BaseEstimator, RegressorMixin, TransformerMixin):\n",
    "    def __init__(self, base_models, meta_model, n_folds=5):\n",
    "        self.base_models = base_models\n",
    "        self.meta_model = meta_model\n",
    "        self.n_folds = n_folds\n",
    "   \n",
    "    # We again fit the data on clones of the original models\n",
    "    def fit(self, X_train, y_train):\n",
    "        #make dummy list\n",
    "        self.base_models_ = [list() for x in range(len(self.base_models))]\n",
    "        #deep copy\n",
    "        self.meta_model_ = clone(self.meta_model)\n",
    "        #k-fold spilt\n",
    "        kfold = KFold(n_splits=self.n_folds, shuffle=True, random_state=101)\n",
    "        \n",
    "        # Train cloned base models then create out-of-fold predictions\n",
    "        # that are needed to train the cloned meta-model\n",
    "        \n",
    "        # (the number of house prices predicted), (the number of level 0 models)\n",
    "        out_of_fold_predictions = np.zeros((X_train.shape[0], len(self.base_models)))\n",
    "        for i, model in enumerate(self.base_models):\n",
    "            for train_index, holdout_index in kfold.split(X_train, y_train):\n",
    "                instance = clone(model)\n",
    "                self.base_models_[i].append(instance)\n",
    "                instance.fit(X_train[train_index], y_train[train_index])\n",
    "                y_pred = instance.predict(X_train[holdout_index])\n",
    "                out_of_fold_predictions[holdout_index, i] = y_pred\n",
    "                \n",
    "        # Now train the cloned  meta-model using the out-of-fold predictions as new feature\n",
    "        self.meta_model_.fit(out_of_fold_predictions, y_train)\n",
    "        return self\n",
    "   \n",
    "    #Do the predictions of all base models on the test data and use the averaged predictions as \n",
    "    #meta-features for the final prediction which is done by the meta-model\n",
    "    def predict(self, X_test):\n",
    "        meta_features = np.column_stack([\n",
    "            np.column_stack([model.predict(X_test) for model in base_models]).mean(axis=1)\n",
    "            for base_models in self.base_models_ ])\n",
    "        return self.meta_model_.predict(meta_features)"
   ]
  },
  {
   "cell_type": "markdown",
   "metadata": {},
   "source": [
    "### 12. Deep Neural Network"
   ]
  },
  {
   "cell_type": "code",
   "execution_count": 186,
   "metadata": {},
   "outputs": [
    {
     "name": "stdout",
     "output_type": "stream",
     "text": [
      "INFO:tensorflow:Using default config.\n",
      "WARNING:tensorflow:Using temporary folder as model directory: /tmp/tmpbzhhoamp\n",
      "INFO:tensorflow:Using config: {'_model_dir': '/tmp/tmpbzhhoamp', '_tf_random_seed': None, '_save_summary_steps': 100, '_save_checkpoints_steps': None, '_save_checkpoints_secs': 600, '_session_config': allow_soft_placement: true\n",
      "graph_options {\n",
      "  rewrite_options {\n",
      "    meta_optimizer_iterations: ONE\n",
      "  }\n",
      "}\n",
      ", '_keep_checkpoint_max': 5, '_keep_checkpoint_every_n_hours': 10000, '_log_step_count_steps': 100, '_train_distribute': None, '_device_fn': None, '_protocol': None, '_eval_distribute': None, '_experimental_distribute': None, '_service': None, '_cluster_spec': <tensorflow.python.training.server_lib.ClusterSpec object at 0x7f5ca856f780>, '_task_type': 'worker', '_task_id': 0, '_global_id_in_cluster': 0, '_master': '', '_evaluation_master': '', '_is_chief': True, '_num_ps_replicas': 0, '_num_worker_replicas': 1}\n"
     ]
    }
   ],
   "source": [
    "feat_cols = [tf.feature_column.numeric_column('x', shape=np.array(X_train).shape[1:])]\n",
    "input_func = tf.estimator.inputs.numpy_input_fn({'x':X_train}, y_train, batch_size=16, num_epochs=3000, shuffle=True)\n",
    "train_input_func = tf.estimator.inputs.numpy_input_fn({'x':X_train}, y_train, batch_size=1, num_epochs=1, shuffle=False)\n",
    "train_input_func = tf.estimator.inputs.numpy_input_fn({'x':X_train}, y_train, batch_size=1, num_epochs=1, shuffle=False)\n",
    "eval_input_func = tf.estimator.inputs.numpy_input_fn({'x': X_test}, y_test, batch_size=1, num_epochs=1, shuffle=False)\n",
    "dnn_model = tf.estimator.DNNRegressor(hidden_units=[256, 512, 256, 64],\n",
    "                                      feature_columns=feat_cols, \n",
    "                                      dropout=0.1,\n",
    "                                      activation_fn=tf.nn.relu,\n",
    "                                      optimizer=tf.train.AdamOptimizer(learning_rate=0.0001),\n",
    "                                      batch_norm=False)"
   ]
  },
  {
   "cell_type": "markdown",
   "metadata": {},
   "source": [
    "## Train and K-Fold Cross Validation RMSE(root mean square error)"
   ]
  },
  {
   "cell_type": "markdown",
   "metadata": {},
   "source": [
    "K-Fold Cross Validation RMSE(root mean square error) would be used as a train error, but for convenience, k-fold cross validation is not used when we calculate the Deep Neural Network train error."
   ]
  },
  {
   "cell_type": "code",
   "execution_count": 128,
   "metadata": {},
   "outputs": [],
   "source": [
    "def rmse_5cv(model):\n",
    "    kf = KFold(5, shuffle=True, random_state=101)\n",
    "    rmse= np.sqrt(-cross_val_score(model, X_train, y_train, scoring=\"neg_mean_squared_error\", cv = kf))\n",
    "    return(rmse)"
   ]
  },
  {
   "cell_type": "code",
   "execution_count": 174,
   "metadata": {},
   "outputs": [],
   "source": [
    "#for bar plot\n",
    "d = {'models': ['lr', 'ridge', 'lasso', 'elasticNet','KRR','randomForest','gboost','xgboost','light_gbm','stack_average','stack_meta_model','DNN'], 'cv': [0.,0.,0.,0.,0.,0.,0.,0.,0.,0.,0.,0.], \n",
    "     'test': [0.,0.,0.,0.,0.,0.,0.,0.,0.,0.,0.,0.] }\n",
    "df_rmse =pd.DataFrame(data=d)"
   ]
  },
  {
   "cell_type": "code",
   "execution_count": 175,
   "metadata": {},
   "outputs": [],
   "source": [
    "score = rmse_5cv(lr)\n",
    "df_rmse['cv'][0] = score.mean()"
   ]
  },
  {
   "cell_type": "code",
   "execution_count": 176,
   "metadata": {},
   "outputs": [],
   "source": [
    "score = rmse_5cv(ridge)\n",
    "df_rmse['cv'][1] = score.mean()"
   ]
  },
  {
   "cell_type": "code",
   "execution_count": 177,
   "metadata": {},
   "outputs": [],
   "source": [
    "score = rmse_5cv(lasso)\n",
    "df_rmse['cv'][2] = score.mean()"
   ]
  },
  {
   "cell_type": "code",
   "execution_count": 178,
   "metadata": {},
   "outputs": [],
   "source": [
    "score = rmse_5cv(elasticNet)\n",
    "df_rmse['cv'][3] = score.mean()"
   ]
  },
  {
   "cell_type": "code",
   "execution_count": 179,
   "metadata": {},
   "outputs": [],
   "source": [
    "score = rmse_5cv(KRR)\n",
    "df_rmse['cv'][4] = score.mean()"
   ]
  },
  {
   "cell_type": "code",
   "execution_count": 180,
   "metadata": {},
   "outputs": [],
   "source": [
    "score = rmse_5cv(randomForest)\n",
    "df_rmse['cv'][5] = score.mean()"
   ]
  },
  {
   "cell_type": "code",
   "execution_count": 181,
   "metadata": {},
   "outputs": [],
   "source": [
    "score = rmse_5cv(gboost)\n",
    "df_rmse['cv'][6] = score.mean()"
   ]
  },
  {
   "cell_type": "code",
   "execution_count": 182,
   "metadata": {},
   "outputs": [],
   "source": [
    "score = rmse_5cv(xgboost)\n",
    "df_rmse['cv'][7] = score.mean()"
   ]
  },
  {
   "cell_type": "code",
   "execution_count": 183,
   "metadata": {},
   "outputs": [],
   "source": [
    "score = rmse_5cv(light_gbm)\n",
    "df_rmse['cv'][8] = score.mean()"
   ]
  },
  {
   "cell_type": "code",
   "execution_count": 184,
   "metadata": {},
   "outputs": [],
   "source": [
    "averaged_models = AveragingModels(models = (elasticNet, gboost, KRR, xgboost))\n",
    "score = rmse_5cv(averaged_models)\n",
    "df_rmse['cv'][9] = score.mean()"
   ]
  },
  {
   "cell_type": "markdown",
   "metadata": {},
   "source": [
    "- here's stack meta model process\n",
    "\n",
    "\n",
    "\n",
    "1. Split the total training set into two disjoint sets (here train and .holdout )\n",
    "\n",
    "2. Train several base models on the first part (train)\n",
    "\n",
    "3. Test these base models on the second part (holdout)\n",
    "\n",
    "4. Use the predictions from 3) (called out-of-folds predictions) as the inputs, and the correct responses (target variable) as the outputs to train a higher level learner called meta-model.\n",
    "\n",
    "\n",
    "![stack](img/stack.jpg)"
   ]
  },
  {
   "cell_type": "code",
   "execution_count": 185,
   "metadata": {},
   "outputs": [],
   "source": [
    "stacked_averaged_models = StackingAveragedModels(base_models = (elasticNet, ridge, gboost, KRR),\n",
    "                                                 meta_model = lasso)\n",
    "score = rmse_5cv(stacked_averaged_models)\n",
    "df_rmse['cv'][10] = score.mean()"
   ]
  },
  {
   "cell_type": "code",
   "execution_count": 189,
   "metadata": {},
   "outputs": [
    {
     "name": "stdout",
     "output_type": "stream",
     "text": [
      "INFO:tensorflow:Calling model_fn.\n",
      "INFO:tensorflow:Done calling model_fn.\n",
      "INFO:tensorflow:Create CheckpointSaverHook.\n",
      "INFO:tensorflow:Graph was finalized.\n",
      "INFO:tensorflow:Running local_init_op.\n",
      "INFO:tensorflow:Done running local_init_op.\n",
      "INFO:tensorflow:Saving checkpoints for 0 into /tmp/tmpbzhhoamp/model.ckpt.\n",
      "INFO:tensorflow:loss = 178.39738, step = 1\n",
      "INFO:tensorflow:global_step/sec: 604.347\n",
      "INFO:tensorflow:loss = 1.7649081, step = 101 (0.166 sec)\n",
      "INFO:tensorflow:global_step/sec: 845.634\n",
      "INFO:tensorflow:loss = 4.5736995, step = 201 (0.118 sec)\n",
      "INFO:tensorflow:global_step/sec: 847.326\n",
      "INFO:tensorflow:loss = 2.5050454, step = 301 (0.118 sec)\n",
      "INFO:tensorflow:global_step/sec: 844.965\n",
      "INFO:tensorflow:loss = 2.197303, step = 401 (0.118 sec)\n",
      "INFO:tensorflow:global_step/sec: 847.66\n",
      "INFO:tensorflow:loss = 1.3260994, step = 501 (0.118 sec)\n",
      "INFO:tensorflow:global_step/sec: 848.532\n",
      "INFO:tensorflow:loss = 0.6739668, step = 601 (0.118 sec)\n",
      "INFO:tensorflow:global_step/sec: 846.932\n",
      "INFO:tensorflow:loss = 2.6951027, step = 701 (0.118 sec)\n",
      "INFO:tensorflow:global_step/sec: 845.549\n",
      "INFO:tensorflow:loss = 0.9293392, step = 801 (0.118 sec)\n",
      "INFO:tensorflow:global_step/sec: 847.387\n",
      "INFO:tensorflow:loss = 1.9698118, step = 901 (0.118 sec)\n",
      "INFO:tensorflow:global_step/sec: 766.132\n",
      "INFO:tensorflow:loss = 1.092966, step = 1001 (0.131 sec)\n",
      "INFO:tensorflow:global_step/sec: 831.71\n",
      "INFO:tensorflow:loss = 1.6190054, step = 1101 (0.120 sec)\n",
      "INFO:tensorflow:global_step/sec: 847.528\n",
      "INFO:tensorflow:loss = 3.7056236, step = 1201 (0.118 sec)\n",
      "INFO:tensorflow:global_step/sec: 850.444\n",
      "INFO:tensorflow:loss = 1.1744306, step = 1301 (0.118 sec)\n",
      "INFO:tensorflow:global_step/sec: 845.955\n",
      "INFO:tensorflow:loss = 0.84077585, step = 1401 (0.118 sec)\n",
      "INFO:tensorflow:global_step/sec: 849.486\n",
      "INFO:tensorflow:loss = 2.3181264, step = 1501 (0.118 sec)\n",
      "INFO:tensorflow:global_step/sec: 848.531\n",
      "INFO:tensorflow:loss = 1.2092261, step = 1601 (0.118 sec)\n",
      "INFO:tensorflow:global_step/sec: 848.369\n",
      "INFO:tensorflow:loss = 2.200201, step = 1701 (0.118 sec)\n",
      "INFO:tensorflow:global_step/sec: 849.965\n",
      "INFO:tensorflow:loss = 1.8286071, step = 1801 (0.118 sec)\n",
      "INFO:tensorflow:global_step/sec: 848.282\n",
      "INFO:tensorflow:loss = 0.77931494, step = 1901 (0.118 sec)\n",
      "INFO:tensorflow:global_step/sec: 846.223\n",
      "INFO:tensorflow:loss = 1.059664, step = 2001 (0.118 sec)\n",
      "INFO:tensorflow:global_step/sec: 851.219\n",
      "INFO:tensorflow:loss = 1.4233212, step = 2101 (0.118 sec)\n",
      "INFO:tensorflow:global_step/sec: 848.783\n",
      "INFO:tensorflow:loss = 1.7852312, step = 2201 (0.118 sec)\n",
      "INFO:tensorflow:global_step/sec: 844.461\n",
      "INFO:tensorflow:loss = 0.9636028, step = 2301 (0.118 sec)\n",
      "INFO:tensorflow:global_step/sec: 850.673\n",
      "INFO:tensorflow:loss = 1.1112953, step = 2401 (0.118 sec)\n",
      "INFO:tensorflow:global_step/sec: 851.214\n",
      "INFO:tensorflow:loss = 1.5248646, step = 2501 (0.117 sec)\n",
      "INFO:tensorflow:global_step/sec: 852.919\n",
      "INFO:tensorflow:loss = 0.87089247, step = 2601 (0.117 sec)\n",
      "INFO:tensorflow:global_step/sec: 849.793\n",
      "INFO:tensorflow:loss = 1.5765687, step = 2701 (0.118 sec)\n",
      "INFO:tensorflow:global_step/sec: 849.266\n",
      "INFO:tensorflow:loss = 0.7262667, step = 2801 (0.118 sec)\n",
      "INFO:tensorflow:global_step/sec: 850.77\n",
      "INFO:tensorflow:loss = 1.1270647, step = 2901 (0.118 sec)\n",
      "INFO:tensorflow:global_step/sec: 848.726\n",
      "INFO:tensorflow:loss = 0.9464989, step = 3001 (0.118 sec)\n",
      "INFO:tensorflow:global_step/sec: 850.898\n",
      "INFO:tensorflow:loss = 0.9625592, step = 3101 (0.117 sec)\n",
      "INFO:tensorflow:global_step/sec: 849.324\n",
      "INFO:tensorflow:loss = 1.3165689, step = 3201 (0.118 sec)\n",
      "INFO:tensorflow:global_step/sec: 848.507\n",
      "INFO:tensorflow:loss = 1.869753, step = 3301 (0.118 sec)\n",
      "INFO:tensorflow:global_step/sec: 846.558\n",
      "INFO:tensorflow:loss = 1.4230223, step = 3401 (0.118 sec)\n",
      "INFO:tensorflow:global_step/sec: 851.139\n",
      "INFO:tensorflow:loss = 0.9866274, step = 3501 (0.118 sec)\n",
      "INFO:tensorflow:global_step/sec: 849.467\n",
      "INFO:tensorflow:loss = 0.8958998, step = 3601 (0.118 sec)\n",
      "INFO:tensorflow:global_step/sec: 850.082\n",
      "INFO:tensorflow:loss = 1.2378082, step = 3701 (0.118 sec)\n",
      "INFO:tensorflow:global_step/sec: 847.663\n",
      "INFO:tensorflow:loss = 0.6358701, step = 3801 (0.118 sec)\n",
      "INFO:tensorflow:global_step/sec: 846.18\n",
      "INFO:tensorflow:loss = 0.845125, step = 3901 (0.118 sec)\n",
      "INFO:tensorflow:global_step/sec: 850.144\n",
      "INFO:tensorflow:loss = 1.2765646, step = 4001 (0.118 sec)\n",
      "INFO:tensorflow:global_step/sec: 846.105\n",
      "INFO:tensorflow:loss = 1.2199162, step = 4101 (0.118 sec)\n",
      "INFO:tensorflow:global_step/sec: 849.204\n",
      "INFO:tensorflow:loss = 1.0041978, step = 4201 (0.118 sec)\n",
      "INFO:tensorflow:global_step/sec: 849.424\n",
      "INFO:tensorflow:loss = 1.0379124, step = 4301 (0.118 sec)\n",
      "INFO:tensorflow:global_step/sec: 846.65\n",
      "INFO:tensorflow:loss = 1.2486844, step = 4401 (0.118 sec)\n",
      "INFO:tensorflow:global_step/sec: 848.666\n",
      "INFO:tensorflow:loss = 1.2312347, step = 4501 (0.118 sec)\n",
      "INFO:tensorflow:global_step/sec: 847.738\n",
      "INFO:tensorflow:loss = 1.8371366, step = 4601 (0.118 sec)\n",
      "INFO:tensorflow:global_step/sec: 844.694\n",
      "INFO:tensorflow:loss = 2.7626457, step = 4701 (0.118 sec)\n",
      "INFO:tensorflow:global_step/sec: 836.509\n",
      "INFO:tensorflow:loss = 1.332088, step = 4801 (0.120 sec)\n",
      "INFO:tensorflow:global_step/sec: 849.448\n",
      "INFO:tensorflow:loss = 1.3692257, step = 4901 (0.118 sec)\n",
      "INFO:tensorflow:global_step/sec: 849.705\n",
      "INFO:tensorflow:loss = 0.99574375, step = 5001 (0.118 sec)\n",
      "INFO:tensorflow:global_step/sec: 849.185\n",
      "INFO:tensorflow:loss = 1.2610366, step = 5101 (0.118 sec)\n",
      "INFO:tensorflow:global_step/sec: 847.848\n",
      "INFO:tensorflow:loss = 0.94208086, step = 5201 (0.118 sec)\n",
      "INFO:tensorflow:global_step/sec: 846.17\n",
      "INFO:tensorflow:loss = 1.4081312, step = 5301 (0.118 sec)\n",
      "INFO:tensorflow:global_step/sec: 851.881\n",
      "INFO:tensorflow:loss = 0.4880274, step = 5401 (0.117 sec)\n",
      "INFO:tensorflow:global_step/sec: 847.534\n",
      "INFO:tensorflow:loss = 0.98114914, step = 5501 (0.118 sec)\n",
      "INFO:tensorflow:global_step/sec: 850.173\n",
      "INFO:tensorflow:loss = 1.2964604, step = 5601 (0.118 sec)\n",
      "INFO:tensorflow:global_step/sec: 852.291\n",
      "INFO:tensorflow:loss = 1.259505, step = 5701 (0.117 sec)\n",
      "INFO:tensorflow:global_step/sec: 848.914\n",
      "INFO:tensorflow:loss = 1.3695455, step = 5801 (0.118 sec)\n",
      "INFO:tensorflow:global_step/sec: 846.987\n",
      "INFO:tensorflow:loss = 0.6957019, step = 5901 (0.118 sec)\n",
      "INFO:tensorflow:global_step/sec: 847.048\n",
      "INFO:tensorflow:loss = 0.8268024, step = 6001 (0.118 sec)\n",
      "INFO:tensorflow:global_step/sec: 849.096\n",
      "INFO:tensorflow:loss = 1.128581, step = 6101 (0.118 sec)\n",
      "INFO:tensorflow:global_step/sec: 850.142\n",
      "INFO:tensorflow:loss = 0.98131424, step = 6201 (0.118 sec)\n",
      "INFO:tensorflow:global_step/sec: 852.92\n",
      "INFO:tensorflow:loss = 1.2075214, step = 6301 (0.117 sec)\n",
      "INFO:tensorflow:global_step/sec: 848.781\n",
      "INFO:tensorflow:loss = 1.1286181, step = 6401 (0.118 sec)\n",
      "INFO:tensorflow:global_step/sec: 847.469\n",
      "INFO:tensorflow:loss = 0.6309943, step = 6501 (0.118 sec)\n",
      "INFO:tensorflow:global_step/sec: 854.258\n",
      "INFO:tensorflow:loss = 0.8355088, step = 6601 (0.117 sec)\n",
      "INFO:tensorflow:global_step/sec: 847.833\n",
      "INFO:tensorflow:loss = 1.131295, step = 6701 (0.118 sec)\n",
      "INFO:tensorflow:global_step/sec: 848.881\n",
      "INFO:tensorflow:loss = 0.9801073, step = 6801 (0.118 sec)\n",
      "INFO:tensorflow:global_step/sec: 845.895\n",
      "INFO:tensorflow:loss = 1.4275553, step = 6901 (0.118 sec)\n",
      "INFO:tensorflow:global_step/sec: 847.1\n",
      "INFO:tensorflow:loss = 0.78274137, step = 7001 (0.118 sec)\n",
      "INFO:tensorflow:global_step/sec: 847.788\n",
      "INFO:tensorflow:loss = 0.9589175, step = 7101 (0.118 sec)\n",
      "INFO:tensorflow:global_step/sec: 844.735\n",
      "INFO:tensorflow:loss = 1.6194556, step = 7201 (0.118 sec)\n",
      "INFO:tensorflow:global_step/sec: 846.677\n",
      "INFO:tensorflow:loss = 0.8164135, step = 7301 (0.118 sec)\n",
      "INFO:tensorflow:global_step/sec: 843.879\n",
      "INFO:tensorflow:loss = 0.73004663, step = 7401 (0.119 sec)\n",
      "INFO:tensorflow:global_step/sec: 846.305\n",
      "INFO:tensorflow:loss = 1.5592957, step = 7501 (0.119 sec)\n",
      "INFO:tensorflow:global_step/sec: 846.84\n",
      "INFO:tensorflow:loss = 1.0835115, step = 7601 (0.117 sec)\n",
      "INFO:tensorflow:global_step/sec: 850.18\n",
      "INFO:tensorflow:loss = 1.28877, step = 7701 (0.118 sec)\n",
      "INFO:tensorflow:global_step/sec: 849.046\n",
      "INFO:tensorflow:loss = 0.83545834, step = 7801 (0.118 sec)\n",
      "INFO:tensorflow:global_step/sec: 849.003\n",
      "INFO:tensorflow:loss = 0.89720476, step = 7901 (0.118 sec)\n",
      "INFO:tensorflow:global_step/sec: 846.949\n"
     ]
    },
    {
     "name": "stdout",
     "output_type": "stream",
     "text": [
      "INFO:tensorflow:loss = 0.8604207, step = 8001 (0.118 sec)\n",
      "INFO:tensorflow:global_step/sec: 849.429\n",
      "INFO:tensorflow:loss = 0.8246075, step = 8101 (0.118 sec)\n",
      "INFO:tensorflow:global_step/sec: 848.843\n",
      "INFO:tensorflow:loss = 0.831802, step = 8201 (0.118 sec)\n",
      "INFO:tensorflow:global_step/sec: 848.821\n",
      "INFO:tensorflow:loss = 1.7484044, step = 8301 (0.118 sec)\n",
      "INFO:tensorflow:global_step/sec: 850.113\n",
      "INFO:tensorflow:loss = 1.1522936, step = 8401 (0.118 sec)\n",
      "INFO:tensorflow:global_step/sec: 848.546\n",
      "INFO:tensorflow:loss = 0.98780453, step = 8501 (0.118 sec)\n",
      "INFO:tensorflow:global_step/sec: 849.159\n",
      "INFO:tensorflow:loss = 0.69049644, step = 8601 (0.118 sec)\n",
      "INFO:tensorflow:global_step/sec: 849.522\n",
      "INFO:tensorflow:loss = 1.5795592, step = 8701 (0.118 sec)\n",
      "INFO:tensorflow:global_step/sec: 846.725\n",
      "INFO:tensorflow:loss = 1.061601, step = 8801 (0.118 sec)\n",
      "INFO:tensorflow:global_step/sec: 848.467\n",
      "INFO:tensorflow:loss = 1.5389185, step = 8901 (0.118 sec)\n",
      "INFO:tensorflow:global_step/sec: 845.379\n",
      "INFO:tensorflow:loss = 1.0821863, step = 9001 (0.118 sec)\n",
      "INFO:tensorflow:global_step/sec: 837.675\n",
      "INFO:tensorflow:loss = 1.2973864, step = 9101 (0.119 sec)\n",
      "INFO:tensorflow:global_step/sec: 849.851\n",
      "INFO:tensorflow:loss = 0.5642351, step = 9201 (0.118 sec)\n",
      "INFO:tensorflow:global_step/sec: 848.716\n",
      "INFO:tensorflow:loss = 0.77311325, step = 9301 (0.118 sec)\n",
      "INFO:tensorflow:global_step/sec: 847.704\n",
      "INFO:tensorflow:loss = 1.1211048, step = 9401 (0.118 sec)\n",
      "INFO:tensorflow:global_step/sec: 850.089\n",
      "INFO:tensorflow:loss = 1.0082245, step = 9501 (0.118 sec)\n",
      "INFO:tensorflow:global_step/sec: 853.215\n",
      "INFO:tensorflow:loss = 1.2696047, step = 9601 (0.117 sec)\n",
      "INFO:tensorflow:global_step/sec: 851.936\n",
      "INFO:tensorflow:loss = 1.1553597, step = 9701 (0.117 sec)\n",
      "INFO:tensorflow:global_step/sec: 848.788\n",
      "INFO:tensorflow:loss = 2.6899917, step = 9801 (0.118 sec)\n",
      "INFO:tensorflow:global_step/sec: 849.412\n",
      "INFO:tensorflow:loss = 1.1758924, step = 9901 (0.118 sec)\n",
      "INFO:tensorflow:global_step/sec: 848.893\n",
      "INFO:tensorflow:loss = 1.1154763, step = 10001 (0.118 sec)\n",
      "INFO:tensorflow:global_step/sec: 849.018\n",
      "INFO:tensorflow:loss = 0.54155684, step = 10101 (0.118 sec)\n",
      "INFO:tensorflow:global_step/sec: 850.946\n",
      "INFO:tensorflow:loss = 0.51641893, step = 10201 (0.118 sec)\n",
      "INFO:tensorflow:global_step/sec: 846.758\n",
      "INFO:tensorflow:loss = 0.5785159, step = 10301 (0.118 sec)\n",
      "INFO:tensorflow:global_step/sec: 851.191\n",
      "INFO:tensorflow:loss = 1.3473616, step = 10401 (0.117 sec)\n",
      "INFO:tensorflow:global_step/sec: 846.228\n",
      "INFO:tensorflow:loss = 0.97939223, step = 10501 (0.118 sec)\n",
      "INFO:tensorflow:global_step/sec: 847.997\n",
      "INFO:tensorflow:loss = 1.3403766, step = 10601 (0.118 sec)\n",
      "INFO:tensorflow:global_step/sec: 845.602\n",
      "INFO:tensorflow:loss = 1.3743393, step = 10701 (0.118 sec)\n",
      "INFO:tensorflow:global_step/sec: 846.201\n",
      "INFO:tensorflow:loss = 0.82067966, step = 10801 (0.118 sec)\n",
      "INFO:tensorflow:global_step/sec: 846.951\n",
      "INFO:tensorflow:loss = 0.85346663, step = 10901 (0.118 sec)\n",
      "INFO:tensorflow:global_step/sec: 847.206\n",
      "INFO:tensorflow:loss = 1.8299417, step = 11001 (0.118 sec)\n",
      "INFO:tensorflow:global_step/sec: 849.736\n",
      "INFO:tensorflow:loss = 0.74312747, step = 11101 (0.118 sec)\n",
      "INFO:tensorflow:global_step/sec: 845.986\n",
      "INFO:tensorflow:loss = 1.3285832, step = 11201 (0.118 sec)\n",
      "INFO:tensorflow:global_step/sec: 844.761\n",
      "INFO:tensorflow:loss = 0.766101, step = 11301 (0.118 sec)\n",
      "INFO:tensorflow:global_step/sec: 849.251\n",
      "INFO:tensorflow:loss = 0.547143, step = 11401 (0.118 sec)\n",
      "INFO:tensorflow:global_step/sec: 841.728\n",
      "INFO:tensorflow:loss = 1.6929853, step = 11501 (0.119 sec)\n",
      "INFO:tensorflow:global_step/sec: 849.533\n",
      "INFO:tensorflow:loss = 1.2928057, step = 11601 (0.118 sec)\n",
      "INFO:tensorflow:global_step/sec: 844.115\n",
      "INFO:tensorflow:loss = 0.66294944, step = 11701 (0.118 sec)\n",
      "INFO:tensorflow:global_step/sec: 846.336\n",
      "INFO:tensorflow:loss = 0.8799038, step = 11801 (0.118 sec)\n",
      "INFO:tensorflow:global_step/sec: 847.834\n",
      "INFO:tensorflow:loss = 0.879236, step = 11901 (0.118 sec)\n",
      "INFO:tensorflow:global_step/sec: 841.981\n",
      "INFO:tensorflow:loss = 0.8781693, step = 12001 (0.119 sec)\n",
      "INFO:tensorflow:global_step/sec: 850.258\n",
      "INFO:tensorflow:loss = 0.5011951, step = 12101 (0.118 sec)\n",
      "INFO:tensorflow:global_step/sec: 846.67\n",
      "INFO:tensorflow:loss = 2.0595636, step = 12201 (0.118 sec)\n",
      "INFO:tensorflow:global_step/sec: 840.286\n",
      "INFO:tensorflow:loss = 0.98434526, step = 12301 (0.119 sec)\n",
      "INFO:tensorflow:global_step/sec: 847.305\n",
      "INFO:tensorflow:loss = 1.683609, step = 12401 (0.118 sec)\n",
      "INFO:tensorflow:global_step/sec: 847.449\n",
      "INFO:tensorflow:loss = 1.6180096, step = 12501 (0.118 sec)\n",
      "INFO:tensorflow:global_step/sec: 848.512\n",
      "INFO:tensorflow:loss = 0.81690115, step = 12601 (0.118 sec)\n",
      "INFO:tensorflow:global_step/sec: 847.567\n",
      "INFO:tensorflow:loss = 0.9350768, step = 12701 (0.118 sec)\n",
      "INFO:tensorflow:global_step/sec: 847.665\n",
      "INFO:tensorflow:loss = 0.6244285, step = 12801 (0.118 sec)\n",
      "INFO:tensorflow:global_step/sec: 846.522\n",
      "INFO:tensorflow:loss = 0.63336366, step = 12901 (0.118 sec)\n",
      "INFO:tensorflow:global_step/sec: 845.935\n",
      "INFO:tensorflow:loss = 1.2140338, step = 13001 (0.118 sec)\n",
      "INFO:tensorflow:global_step/sec: 847.463\n",
      "INFO:tensorflow:loss = 1.0741984, step = 13101 (0.118 sec)\n",
      "INFO:tensorflow:global_step/sec: 850.316\n",
      "INFO:tensorflow:loss = 2.115923, step = 13201 (0.118 sec)\n",
      "INFO:tensorflow:global_step/sec: 851.39\n",
      "INFO:tensorflow:loss = 0.8327202, step = 13301 (0.118 sec)\n",
      "INFO:tensorflow:global_step/sec: 833.959\n",
      "INFO:tensorflow:loss = 0.60375243, step = 13401 (0.120 sec)\n",
      "INFO:tensorflow:global_step/sec: 850.889\n",
      "INFO:tensorflow:loss = 0.7136112, step = 13501 (0.118 sec)\n",
      "INFO:tensorflow:global_step/sec: 850.273\n",
      "INFO:tensorflow:loss = 1.5555518, step = 13601 (0.118 sec)\n",
      "INFO:tensorflow:global_step/sec: 847.538\n",
      "INFO:tensorflow:loss = 0.5499567, step = 13701 (0.118 sec)\n",
      "INFO:tensorflow:global_step/sec: 851.774\n",
      "INFO:tensorflow:loss = 1.2771266, step = 13801 (0.117 sec)\n",
      "INFO:tensorflow:global_step/sec: 849.629\n",
      "INFO:tensorflow:loss = 1.252072, step = 13901 (0.118 sec)\n",
      "INFO:tensorflow:global_step/sec: 852.854\n",
      "INFO:tensorflow:loss = 1.1639926, step = 14001 (0.117 sec)\n",
      "INFO:tensorflow:global_step/sec: 845.622\n",
      "INFO:tensorflow:loss = 1.4577808, step = 14101 (0.118 sec)\n",
      "INFO:tensorflow:global_step/sec: 849.046\n",
      "INFO:tensorflow:loss = 0.71012676, step = 14201 (0.118 sec)\n",
      "INFO:tensorflow:global_step/sec: 848.57\n",
      "INFO:tensorflow:loss = 1.0468352, step = 14301 (0.118 sec)\n",
      "INFO:tensorflow:global_step/sec: 849.469\n",
      "INFO:tensorflow:loss = 0.571285, step = 14401 (0.118 sec)\n",
      "INFO:tensorflow:global_step/sec: 846.706\n",
      "INFO:tensorflow:loss = 0.53165936, step = 14501 (0.118 sec)\n",
      "INFO:tensorflow:global_step/sec: 846.496\n",
      "INFO:tensorflow:loss = 0.44495654, step = 14601 (0.118 sec)\n",
      "INFO:tensorflow:global_step/sec: 847.36\n",
      "INFO:tensorflow:loss = 0.65011966, step = 14701 (0.118 sec)\n",
      "INFO:tensorflow:global_step/sec: 847.651\n",
      "INFO:tensorflow:loss = 0.82284653, step = 14801 (0.118 sec)\n",
      "INFO:tensorflow:global_step/sec: 845.169\n",
      "INFO:tensorflow:loss = 1.4069948, step = 14901 (0.118 sec)\n",
      "INFO:tensorflow:global_step/sec: 844.188\n",
      "INFO:tensorflow:loss = 0.8576143, step = 15001 (0.118 sec)\n",
      "INFO:tensorflow:global_step/sec: 846.16\n",
      "INFO:tensorflow:loss = 0.8265418, step = 15101 (0.118 sec)\n",
      "INFO:tensorflow:global_step/sec: 850.601\n",
      "INFO:tensorflow:loss = 1.3712791, step = 15201 (0.118 sec)\n",
      "INFO:tensorflow:global_step/sec: 849.048\n",
      "INFO:tensorflow:loss = 1.4091072, step = 15301 (0.118 sec)\n",
      "INFO:tensorflow:global_step/sec: 846.341\n",
      "INFO:tensorflow:loss = 0.88341904, step = 15401 (0.118 sec)\n",
      "INFO:tensorflow:global_step/sec: 846.36\n",
      "INFO:tensorflow:loss = 1.6313787, step = 15501 (0.118 sec)\n",
      "INFO:tensorflow:global_step/sec: 848.847\n",
      "INFO:tensorflow:loss = 0.66598713, step = 15601 (0.118 sec)\n",
      "INFO:tensorflow:global_step/sec: 847.887\n",
      "INFO:tensorflow:loss = 1.044811, step = 15701 (0.118 sec)\n",
      "INFO:tensorflow:global_step/sec: 846.867\n",
      "INFO:tensorflow:loss = 0.908123, step = 15801 (0.118 sec)\n",
      "INFO:tensorflow:global_step/sec: 843.183\n",
      "INFO:tensorflow:loss = 0.89812547, step = 15901 (0.119 sec)\n",
      "INFO:tensorflow:global_step/sec: 846.626\n",
      "INFO:tensorflow:loss = 0.7061515, step = 16001 (0.118 sec)\n",
      "INFO:tensorflow:global_step/sec: 848.826\n",
      "INFO:tensorflow:loss = 0.5160843, step = 16101 (0.118 sec)\n",
      "INFO:tensorflow:global_step/sec: 848.553\n",
      "INFO:tensorflow:loss = 0.9904233, step = 16201 (0.118 sec)\n"
     ]
    },
    {
     "name": "stdout",
     "output_type": "stream",
     "text": [
      "INFO:tensorflow:global_step/sec: 848.242\n",
      "INFO:tensorflow:loss = 0.9242103, step = 16301 (0.118 sec)\n",
      "INFO:tensorflow:global_step/sec: 845.072\n",
      "INFO:tensorflow:loss = 1.2304581, step = 16401 (0.118 sec)\n",
      "INFO:tensorflow:global_step/sec: 847.74\n",
      "INFO:tensorflow:loss = 0.87679076, step = 16501 (0.118 sec)\n",
      "INFO:tensorflow:global_step/sec: 847.706\n",
      "INFO:tensorflow:loss = 1.284941, step = 16601 (0.118 sec)\n",
      "INFO:tensorflow:global_step/sec: 848.604\n",
      "INFO:tensorflow:loss = 1.4628489, step = 16701 (0.118 sec)\n",
      "INFO:tensorflow:global_step/sec: 849.91\n",
      "INFO:tensorflow:loss = 1.1282966, step = 16801 (0.118 sec)\n",
      "INFO:tensorflow:global_step/sec: 849.694\n",
      "INFO:tensorflow:loss = 1.2489524, step = 16901 (0.118 sec)\n",
      "INFO:tensorflow:global_step/sec: 850.592\n",
      "INFO:tensorflow:loss = 1.4547457, step = 17001 (0.118 sec)\n",
      "INFO:tensorflow:global_step/sec: 849.552\n",
      "INFO:tensorflow:loss = 0.7694609, step = 17101 (0.118 sec)\n",
      "INFO:tensorflow:global_step/sec: 848.809\n",
      "INFO:tensorflow:loss = 1.244573, step = 17201 (0.118 sec)\n",
      "INFO:tensorflow:global_step/sec: 849.092\n",
      "INFO:tensorflow:loss = 0.9516573, step = 17301 (0.118 sec)\n",
      "INFO:tensorflow:global_step/sec: 845.157\n",
      "INFO:tensorflow:loss = 0.7868532, step = 17401 (0.118 sec)\n",
      "INFO:tensorflow:global_step/sec: 849.555\n",
      "INFO:tensorflow:loss = 0.9301765, step = 17501 (0.118 sec)\n",
      "INFO:tensorflow:global_step/sec: 851.164\n",
      "INFO:tensorflow:loss = 0.6153618, step = 17601 (0.118 sec)\n",
      "INFO:tensorflow:global_step/sec: 846.156\n",
      "INFO:tensorflow:loss = 0.41946757, step = 17701 (0.118 sec)\n",
      "INFO:tensorflow:global_step/sec: 851.509\n",
      "INFO:tensorflow:loss = 0.74128187, step = 17801 (0.117 sec)\n",
      "INFO:tensorflow:global_step/sec: 847.136\n",
      "INFO:tensorflow:loss = 0.38839713, step = 17901 (0.118 sec)\n",
      "INFO:tensorflow:global_step/sec: 844.878\n",
      "INFO:tensorflow:loss = 0.44792655, step = 18001 (0.118 sec)\n",
      "INFO:tensorflow:global_step/sec: 851.015\n",
      "INFO:tensorflow:loss = 0.8803854, step = 18101 (0.118 sec)\n",
      "INFO:tensorflow:global_step/sec: 850.799\n",
      "INFO:tensorflow:loss = 0.47697282, step = 18201 (0.118 sec)\n",
      "INFO:tensorflow:global_step/sec: 849.189\n",
      "INFO:tensorflow:loss = 0.7780204, step = 18301 (0.118 sec)\n",
      "INFO:tensorflow:global_step/sec: 849.132\n",
      "INFO:tensorflow:loss = 1.0835747, step = 18401 (0.118 sec)\n",
      "INFO:tensorflow:global_step/sec: 850.18\n",
      "INFO:tensorflow:loss = 0.5465142, step = 18501 (0.118 sec)\n",
      "INFO:tensorflow:global_step/sec: 849.469\n",
      "INFO:tensorflow:loss = 1.0605328, step = 18601 (0.118 sec)\n",
      "INFO:tensorflow:global_step/sec: 844.276\n",
      "INFO:tensorflow:loss = 0.5382986, step = 18701 (0.118 sec)\n",
      "INFO:tensorflow:global_step/sec: 842.847\n",
      "INFO:tensorflow:loss = 1.0240496, step = 18801 (0.119 sec)\n",
      "INFO:tensorflow:global_step/sec: 840.796\n",
      "INFO:tensorflow:loss = 0.8277434, step = 18901 (0.119 sec)\n",
      "INFO:tensorflow:global_step/sec: 848.493\n",
      "INFO:tensorflow:loss = 0.6375053, step = 19001 (0.118 sec)\n",
      "INFO:tensorflow:global_step/sec: 845.955\n",
      "INFO:tensorflow:loss = 0.47816133, step = 19101 (0.118 sec)\n",
      "INFO:tensorflow:global_step/sec: 845.842\n",
      "INFO:tensorflow:loss = 0.9890578, step = 19201 (0.118 sec)\n",
      "INFO:tensorflow:global_step/sec: 847.5\n",
      "INFO:tensorflow:loss = 0.80507964, step = 19301 (0.118 sec)\n",
      "INFO:tensorflow:global_step/sec: 846.44\n",
      "INFO:tensorflow:loss = 0.7437234, step = 19401 (0.118 sec)\n",
      "INFO:tensorflow:global_step/sec: 842.018\n",
      "INFO:tensorflow:loss = 0.75430524, step = 19501 (0.119 sec)\n",
      "INFO:tensorflow:global_step/sec: 846.941\n",
      "INFO:tensorflow:loss = 1.0380011, step = 19601 (0.118 sec)\n",
      "INFO:tensorflow:global_step/sec: 848.795\n",
      "INFO:tensorflow:loss = 0.4550801, step = 19701 (0.118 sec)\n",
      "INFO:tensorflow:global_step/sec: 853.222\n",
      "INFO:tensorflow:loss = 0.7005102, step = 19801 (0.117 sec)\n",
      "INFO:tensorflow:global_step/sec: 847.872\n",
      "INFO:tensorflow:loss = 0.7187972, step = 19901 (0.118 sec)\n",
      "INFO:tensorflow:Saving checkpoints for 20000 into /tmp/tmpbzhhoamp/model.ckpt.\n",
      "INFO:tensorflow:Loss for final step: 0.47970742.\n"
     ]
    },
    {
     "data": {
      "text/plain": [
       "<tensorflow_estimator.python.estimator.canned.dnn.DNNRegressor at 0x7f5ca8514e80>"
      ]
     },
     "execution_count": 189,
     "metadata": {},
     "output_type": "execute_result"
    }
   ],
   "source": [
    "dnn_model.train(input_fn=input_func, steps=40000)"
   ]
  },
  {
   "cell_type": "code",
   "execution_count": 190,
   "metadata": {},
   "outputs": [
    {
     "name": "stdout",
     "output_type": "stream",
     "text": [
      "INFO:tensorflow:Calling model_fn.\n",
      "INFO:tensorflow:Done calling model_fn.\n",
      "INFO:tensorflow:Graph was finalized.\n",
      "INFO:tensorflow:Restoring parameters from /tmp/tmpbzhhoamp/model.ckpt-20000\n",
      "INFO:tensorflow:Running local_init_op.\n",
      "INFO:tensorflow:Done running local_init_op.\n"
     ]
    }
   ],
   "source": [
    "y_train_pred = []\n",
    "for pred in dnn_model.predict(input_fn=train_input_func):\n",
    "    y_train_pred.append(pred['predictions'][0])\n",
    "df_rmse['cv'][11] = np.sqrt(mean_squared_error(y_train_pred,y_train))"
   ]
  },
  {
   "cell_type": "code",
   "execution_count": 191,
   "metadata": {},
   "outputs": [
    {
     "data": {
      "image/png": "[encoded data removed]",
      "text/plain": [
       "<Figure size 1800x1800 with 1 Axes>"
      ]
     },
     "metadata": {},
     "output_type": "display_data"
    }
   ],
   "source": [
    "with sns.axes_style(\"whitegrid\", {'axes.grid' : True}):\n",
    "    fig, ax = plt.subplots(1,1, figsize=(25,25))\n",
    "sns.set(font_scale=1.5)\n",
    "\n",
    "sns.barplot(x = 'models', y = 'cv', data=df_rmse)\n",
    "plt.xticks(rotation=90)\n",
    "plt.show()"
   ]
  },
  {
   "cell_type": "markdown",
   "metadata": {},
   "source": [
    "As you can see the bar plot, basic 4 models(linear,ridge,lasso and elasticnet) have higher bias than other advanced models and Deep Neural Network performed best on a train set."
   ]
  },
  {
   "cell_type": "markdown",
   "metadata": {},
   "source": [
    "- ## Evaluation on test (or dev) set"
   ]
  },
  {
   "cell_type": "code",
   "execution_count": 192,
   "metadata": {},
   "outputs": [
    {
     "data": {
      "image/png": "[encoded data removed]",
      "text/plain": [
       "<Figure size 432x288 with 1 Axes>"
      ]
     },
     "metadata": {},
     "output_type": "display_data"
    }
   ],
   "source": [
    "lr.fit(X_train, y_train)\n",
    "y_train_pred = lr.predict(X_train)\n",
    "y_test_pred = lr.predict(X_test)\n",
    "# Plot predictions\n",
    "plt.scatter(y_train_pred, y_train, c = \"blue\", marker = \".\", label = \"train\")\n",
    "plt.scatter(y_test_pred, y_test, c = \"red\", marker = \".\", label = \"test\")\n",
    "plt.title(\"Linear regression\")\n",
    "plt.xlabel(\"Predicted values\")\n",
    "plt.ylabel(\"Real values\")\n",
    "plt.legend(loc = \"upper left\")\n",
    "plt.plot([1.5, 4.5], [1.5, 4.5], c = \"black\")\n",
    "plt.show()"
   ]
  },
  {
   "cell_type": "code",
   "execution_count": 193,
   "metadata": {},
   "outputs": [],
   "source": [
    "df_rmse['test'][0] = np.sqrt(mean_squared_error(y_test_pred,y_test))"
   ]
  },
  {
   "cell_type": "code",
   "execution_count": 194,
   "metadata": {},
   "outputs": [],
   "source": [
    "ridge.fit(X_train, y_train)\n",
    "y_test_pred = ridge.predict(X_test)\n",
    "df_rmse['test'][1] = np.sqrt(mean_squared_error(y_test_pred,y_test))"
   ]
  },
  {
   "cell_type": "code",
   "execution_count": 195,
   "metadata": {},
   "outputs": [],
   "source": [
    "lasso.fit(X_train, y_train)\n",
    "y_test_pred = lasso.predict(X_test)\n",
    "df_rmse['test'][2] = np.sqrt(mean_squared_error(y_test_pred,y_test))"
   ]
  },
  {
   "cell_type": "code",
   "execution_count": 197,
   "metadata": {},
   "outputs": [],
   "source": [
    "elasticNet.fit(X_train, y_train)\n",
    "y_test_pred = elasticNet.predict(X_test)\n",
    "df_rmse['test'][3] = np.sqrt(mean_squared_error(y_test_pred,y_test))"
   ]
  },
  {
   "cell_type": "code",
   "execution_count": 198,
   "metadata": {},
   "outputs": [],
   "source": [
    "KRR.fit(X_train, y_train)\n",
    "y_test_pred = KRR.predict(X_test)\n",
    "df_rmse['test'][4] = np.sqrt(mean_squared_error(y_test_pred,y_test))"
   ]
  },
  {
   "cell_type": "code",
   "execution_count": 199,
   "metadata": {},
   "outputs": [
    {
     "data": {
      "image/png": "[encoded data removed]",
      "text/plain": [
       "<Figure size 432x288 with 1 Axes>"
      ]
     },
     "metadata": {},
     "output_type": "display_data"
    }
   ],
   "source": [
    "y_train_pred = KRR.predict(X_train)\n",
    "y_test_pred = KRR.predict(X_test)\n",
    "plt.scatter(y_train_pred, y_train, c = \"blue\", marker = \".\", label = \"train\")\n",
    "plt.scatter(y_test_pred, y_test, c = \"red\", marker = \".\", label = \"test\")\n",
    "plt.title(\"Kernel Ridge Regression\")\n",
    "plt.xlabel(\"Predicted values\")\n",
    "plt.ylabel(\"Real values\")\n",
    "plt.legend(loc = \"upper left\")\n",
    "plt.plot([1.5, 4.5], [1.5, 4.5], c = \"black\")\n",
    "plt.show()"
   ]
  },
  {
   "cell_type": "code",
   "execution_count": 200,
   "metadata": {},
   "outputs": [],
   "source": [
    "randomForest.fit(X_train, y_train)\n",
    "y_test_pred = randomForest.predict(X_test)\n",
    "df_rmse['test'][5] = np.sqrt(mean_squared_error(y_test_pred,y_test))"
   ]
  },
  {
   "cell_type": "code",
   "execution_count": 201,
   "metadata": {},
   "outputs": [],
   "source": [
    "gboost.fit(X_train, y_train)\n",
    "y_test_pred = gboost.predict(X_test)\n",
    "df_rmse['test'][6] = np.sqrt(mean_squared_error(y_test_pred,y_test))"
   ]
  },
  {
   "cell_type": "code",
   "execution_count": 202,
   "metadata": {},
   "outputs": [
    {
     "data": {
      "image/png": "[encoded data removed]",
      "text/plain": [
       "<Figure size 432x288 with 1 Axes>"
      ]
     },
     "metadata": {},
     "output_type": "display_data"
    }
   ],
   "source": [
    "y_train_pred = gboost.predict(X_train)\n",
    "y_test_pred = gboost.predict(X_test)\n",
    "# Plot predictions\n",
    "plt.scatter(y_train_pred, y_train, c = \"blue\", marker = \".\", label = \"train\")\n",
    "plt.scatter(y_test_pred, y_test, c = \"red\", marker = \".\", label = \"test\")\n",
    "plt.title(\"Gradient Boosting Regression\")\n",
    "plt.xlabel(\"Predicted values\")\n",
    "plt.ylabel(\"Real values\")\n",
    "plt.legend(loc = \"upper left\")\n",
    "plt.plot([1.5, 4.5], [1.5, 4.5], c = \"black\")\n",
    "plt.show()"
   ]
  },
  {
   "cell_type": "code",
   "execution_count": 203,
   "metadata": {},
   "outputs": [],
   "source": [
    "xgboost.fit(X_train, y_train)\n",
    "y_test_pred = xgboost.predict(X_test)\n",
    "df_rmse['test'][7] = np.sqrt(mean_squared_error(y_test_pred,y_test))"
   ]
  },
  {
   "cell_type": "code",
   "execution_count": 204,
   "metadata": {},
   "outputs": [
    {
     "data": {
      "image/png": "[encoded data removed]",
      "text/plain": [
       "<Figure size 432x288 with 1 Axes>"
      ]
     },
     "metadata": {},
     "output_type": "display_data"
    }
   ],
   "source": [
    "y_train_pred = xgboost.predict(X_train)\n",
    "y_test_pred = xgboost.predict(X_test)\n",
    "# Plot predictions\n",
    "plt.scatter(y_train_pred, y_train, c = \"blue\", marker = \".\", label = \"train\")\n",
    "plt.scatter(y_test_pred, y_test, c = \"red\", marker = \".\", label = \"test\")\n",
    "plt.title(\"XGBoot\")\n",
    "plt.xlabel(\"Predicted values\")\n",
    "plt.ylabel(\"Real values\")\n",
    "plt.legend(loc = \"upper left\")\n",
    "plt.plot([1.5, 4.5], [1.5, 4.5], c = \"black\")\n",
    "plt.show()"
   ]
  },
  {
   "cell_type": "code",
   "execution_count": 205,
   "metadata": {},
   "outputs": [],
   "source": [
    "light_gbm.fit(X_train, y_train)\n",
    "y_test_pred = light_gbm.predict(X_test)\n",
    "df_rmse['test'][8] = np.sqrt(mean_squared_error(y_test_pred,y_test))"
   ]
  },
  {
   "cell_type": "code",
   "execution_count": 206,
   "metadata": {},
   "outputs": [
    {
     "data": {
      "image/png": "[encoded data removed]",
      "text/plain": [
       "<Figure size 432x288 with 1 Axes>"
      ]
     },
     "metadata": {},
     "output_type": "display_data"
    }
   ],
   "source": [
    "y_train_pred = light_gbm.predict(X_train)\n",
    "y_test_pred = light_gbm.predict(X_test)\n",
    "# Plot predictions\n",
    "plt.scatter(y_train_pred, y_train, c = \"blue\", marker = \".\", label = \"train\")\n",
    "plt.scatter(y_test_pred, y_test, c = \"red\", marker = \".\", label = \"test\")\n",
    "plt.title(\"LightGBM Regression\")\n",
    "plt.xlabel(\"Predicted values\")\n",
    "plt.ylabel(\"Real values\")\n",
    "plt.legend(loc = \"upper left\")\n",
    "plt.plot([1.5, 4.5], [1.5, 4.5], c = \"black\")\n",
    "plt.show()"
   ]
  },
  {
   "cell_type": "code",
   "execution_count": 207,
   "metadata": {},
   "outputs": [],
   "source": [
    "averaged_models.fit(X_train, y_train)\n",
    "averaged_models_pred = averaged_models.predict(X_test)\n",
    "df_rmse['test'][9] = np.sqrt(mean_squared_error(averaged_models_pred,y_test))"
   ]
  },
  {
   "cell_type": "code",
   "execution_count": 208,
   "metadata": {},
   "outputs": [
    {
     "data": {
      "image/png": "[encoded data removed]",
      "text/plain": [
       "<Figure size 432x288 with 1 Axes>"
      ]
     },
     "metadata": {},
     "output_type": "display_data"
    }
   ],
   "source": [
    "y_train_pred = averaged_models.predict(X_train)\n",
    "y_test_pred = averaged_models.predict(X_test)\n",
    "# Plot predictions\n",
    "plt.scatter(y_train_pred, y_train, c = \"blue\", marker = \".\", label = \"train\")\n",
    "plt.scatter(y_test_pred, y_test, c = \"red\", marker = \".\", label = \"test\")\n",
    "plt.title(\"Averaged Models\")\n",
    "plt.xlabel(\"Predicted values\")\n",
    "plt.ylabel(\"Real values\")\n",
    "plt.legend(loc = \"upper left\")\n",
    "plt.plot([1.5, 4.5], [1.5, 4.5], c = \"black\")\n",
    "plt.show()"
   ]
  },
  {
   "cell_type": "code",
   "execution_count": 209,
   "metadata": {},
   "outputs": [],
   "source": [
    "stacked_averaged_models.fit(X_train, y_train)\n",
    "stacked_averaged_models_pred = stacked_averaged_models.predict(X_test)"
   ]
  },
  {
   "cell_type": "code",
   "execution_count": 211,
   "metadata": {},
   "outputs": [],
   "source": [
    "xgboost.fit(X_train, y_train)\n",
    "xgboost_pred = xgboost.predict(X_test)"
   ]
  },
  {
   "cell_type": "code",
   "execution_count": 212,
   "metadata": {},
   "outputs": [],
   "source": [
    "average = (stacked_averaged_models_pred*0.5 + xgboost_pred * 0.5)"
   ]
  },
  {
   "cell_type": "code",
   "execution_count": 213,
   "metadata": {},
   "outputs": [],
   "source": [
    "df_rmse['test'][10]  = np.sqrt(mean_squared_error(average,y_test))"
   ]
  },
  {
   "cell_type": "code",
   "execution_count": 214,
   "metadata": {},
   "outputs": [
    {
     "name": "stdout",
     "output_type": "stream",
     "text": [
      "INFO:tensorflow:Calling model_fn.\n",
      "INFO:tensorflow:Done calling model_fn.\n",
      "INFO:tensorflow:Graph was finalized.\n",
      "INFO:tensorflow:Restoring parameters from /tmp/tmpbzhhoamp/model.ckpt-20000\n",
      "INFO:tensorflow:Running local_init_op.\n",
      "INFO:tensorflow:Done running local_init_op.\n"
     ]
    }
   ],
   "source": [
    "y_test_pred = []\n",
    "for pred in dnn_model.predict(input_fn=eval_input_func):\n",
    "    y_test_pred.append(pred['predictions'][0])\n",
    "df_rmse['test'][11] = np.sqrt(mean_squared_error(y_test_pred,y_test))"
   ]
  },
  {
   "cell_type": "code",
   "execution_count": 215,
   "metadata": {},
   "outputs": [
    {
     "name": "stdout",
     "output_type": "stream",
     "text": [
      "INFO:tensorflow:Calling model_fn.\n",
      "INFO:tensorflow:Done calling model_fn.\n",
      "INFO:tensorflow:Graph was finalized.\n",
      "INFO:tensorflow:Restoring parameters from /tmp/tmpbzhhoamp/model.ckpt-20000\n",
      "INFO:tensorflow:Running local_init_op.\n",
      "INFO:tensorflow:Done running local_init_op.\n",
      "INFO:tensorflow:Calling model_fn.\n",
      "INFO:tensorflow:Done calling model_fn.\n",
      "INFO:tensorflow:Graph was finalized.\n",
      "INFO:tensorflow:Restoring parameters from /tmp/tmpbzhhoamp/model.ckpt-20000\n",
      "INFO:tensorflow:Running local_init_op.\n",
      "INFO:tensorflow:Done running local_init_op.\n"
     ]
    },
    {
     "data": {
      "image/png": "[encoded data removed]",
      "text/plain": [
       "<Figure size 432x288 with 1 Axes>"
      ]
     },
     "metadata": {},
     "output_type": "display_data"
    }
   ],
   "source": [
    "y_train_pred = []\n",
    "for pred in dnn_model.predict(input_fn=train_input_func):\n",
    "    y_train_pred.append(pred['predictions'][0])\n",
    "    \n",
    "y_test_pred = []\n",
    "for pred in dnn_model.predict(input_fn=eval_input_func):\n",
    "    y_test_pred.append(pred['predictions'][0])\n",
    "\n",
    "plt.scatter(y_train_pred, y_train, c = \"blue\", marker = \".\", label = \"train\")\n",
    "plt.scatter(y_test_pred, y_test, c = \"red\", marker = \".\", label = \"test\")\n",
    "plt.title(\"Neural Network\")\n",
    "plt.xlabel(\"Predicted values\")\n",
    "plt.ylabel(\"Real values\")\n",
    "plt.legend(loc = \"upper left\")\n",
    "plt.plot([1.5, 4.5], [1.5, 4.5], c = \"black\")\n",
    "plt.show()"
   ]
  },
  {
   "cell_type": "code",
   "execution_count": 216,
   "metadata": {},
   "outputs": [
    {
     "data": {
      "image/png": "[encoded data removed]",
      "text/plain": [
       "<Figure size 1800x1800 with 1 Axes>"
      ]
     },
     "metadata": {},
     "output_type": "display_data"
    }
   ],
   "source": [
    "with sns.axes_style(\"whitegrid\", {'axes.grid' : True}):\n",
    "    fig, ax = plt.subplots(1,1, figsize=(25,25))\n",
    "sns.set(font_scale=1.5)\n",
    "\n",
    "sns.barplot(x = 'models', y = 'test', data=df_rmse)\n",
    "plt.xticks(rotation=90)\n",
    "plt.show()"
   ]
  },
  {
   "cell_type": "markdown",
   "metadata": {},
   "source": [
    "This plot shows RMSE on a test set(unseen data).\n",
    "It seems that DNN was our best regressor on a cross validation, but on the test set, DNN got high variance. Simeple Stack Average model and stack meta model got the lowest RSME."
   ]
  },
  {
   "cell_type": "code",
   "execution_count": null,
   "metadata": {},
   "outputs": [],
   "source": []
  }
 ],
 "metadata": {
  "kernelspec": {
   "display_name": "kakao",
   "language": "python",
   "name": "kakao"
  },
  "language_info": {
   "codemirror_mode": {
    "name": "ipython",
    "version": 3
   },
   "file_extension": ".py",
   "mimetype": "text/x-python",
   "name": "python",
   "nbconvert_exporter": "python",
   "pygments_lexer": "ipython3",
   "version": "3.6.7"
  }
 },
 "nbformat": 4,
 "nbformat_minor": 2
}
